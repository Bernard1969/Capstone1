{
 "cells": [
  {
   "cell_type": "markdown",
   "metadata": {
    "collapsed": true
   },
   "source": [
    "# Proposal for New Office Location for Toronto Business Coders"
   ]
  },
  {
   "cell_type": "markdown",
   "metadata": {},
   "source": [
    "We are starting a consulting business for data science services and java development services in Toronto, and looking to open an office with a start-up theme.  The target is to find the best location for the office, in order to maximize productivity return on employee selection, with the leading thought being that proximity to coffee shops impacts productivity.  I propose to find support for that idea, against per capita income demographics, and then to locate candidate neighborhoods accordingly."
   ]
  },
  {
   "cell_type": "markdown",
   "metadata": {},
   "source": [
    "The data we use to support this inquiry are: Foursquare location data for Toronto neighborhoods and coffee businesses; Toronto demographics data from Wikipedia.\n",
    "https://en.wikipedia.org/wiki/Demographics_of_Toronto_neighbourhoods."
   ]
  }
 ],
 "metadata": {
  "kernelspec": {
   "display_name": "Python 3.6",
   "language": "python",
   "name": "python3"
  },
  "language_info": {
   "codemirror_mode": {
    "name": "ipython",
    "version": 3
   },
   "file_extension": ".py",
   "mimetype": "text/x-python",
   "name": "python",
   "nbconvert_exporter": "python",
   "pygments_lexer": "ipython3",
   "version": "3.6.8"
  }
 },
 "nbformat": 4,
 "nbformat_minor": 1
}
